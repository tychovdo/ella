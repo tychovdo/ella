{
 "cells": [
  {
   "cell_type": "code",
   "execution_count": 198,
   "id": "5fd724af",
   "metadata": {},
   "outputs": [],
   "source": [
    "import os\n",
    "if not 'notebooks' in os.listdir():\n",
    "    os.chdir('..')"
   ]
  },
  {
   "cell_type": "code",
   "execution_count": 199,
   "id": "1f9f0e81",
   "metadata": {},
   "outputs": [
    {
     "name": "stdout",
     "output_type": "stream",
     "text": [
      "ok\n"
     ]
    }
   ],
   "source": [
    "print('ok')"
   ]
  },
  {
   "cell_type": "code",
   "execution_count": 200,
   "id": "4a61a2c9",
   "metadata": {},
   "outputs": [],
   "source": [
    "import matplotlib.pyplot as plt"
   ]
  },
  {
   "cell_type": "code",
   "execution_count": 201,
   "id": "7f2d1b0f",
   "metadata": {},
   "outputs": [],
   "source": [
    "from asdfghjkl.operations import Conv2dAug"
   ]
  },
  {
   "cell_type": "code",
   "execution_count": 202,
   "id": "19c4956e",
   "metadata": {},
   "outputs": [],
   "source": [
    "def plot(x, G=1):\n",
    "    v = x.reshape(x.shape[0], G, -1, *x.shape[2:])\n",
    "    \n",
    "    plt.figure(figsize=(4*G, 4*v.shape[2]))\n",
    "    for c in range(v.shape[2]):\n",
    "        for g in range(G):\n",
    "            plt.subplot(v.shape[2], G, 1 + c * G + g)\n",
    "            plt.title(f'c: {c}, g: {g}')\n",
    "\n",
    "            plt.axis('off')\n",
    "            plt.imshow(v[0, g, c].detach())\n",
    "    plt.show()"
   ]
  },
  {
   "cell_type": "code",
   "execution_count": 250,
   "id": "ab0b0eed",
   "metadata": {},
   "outputs": [],
   "source": [
    "from sparse.rpp_conv_group import D_GConvFull"
   ]
  },
  {
   "cell_type": "code",
   "execution_count": 251,
   "id": "6b624f49",
   "metadata": {
    "scrolled": false
   },
   "outputs": [],
   "source": [
    "# Check translation equivariance\n",
    "B, C, H, W = 32, 3, 32, 32\n",
    "\n",
    "torch.manual_seed(5)\n",
    "\n",
    "p = torch.randn((B, C, 10, 10))\n",
    "\n",
    "x1 = torch.zeros((B, C, H, W))\n",
    "\n",
    "a1, a2 = 4, 6\n",
    "x1[:, :, a1:a1+10, a2:a2+10] = p\n",
    "x1[:, 1, a1:a1+4, a2:a2+4] = 0\n",
    "x1[:, 1, a1:a1+2, a2:a2+2] = 10.0\n",
    "\n",
    "x2 = torch.rot90(x1, k=1, dims=[-1, -2])"
   ]
  },
  {
   "cell_type": "code",
   "execution_count": 252,
   "id": "dfdf086c",
   "metadata": {},
   "outputs": [],
   "source": [
    "net = D_Conv(3, 10)"
   ]
  },
  {
   "cell_type": "code",
   "execution_count": 253,
   "id": "a6bf68a0",
   "metadata": {},
   "outputs": [
    {
     "name": "stdout",
     "output_type": "stream",
     "text": [
      "tensor([[ 1.0308e-05,  1.8965e-06,  3.9897e-05,  1.0273e-05, -1.6742e-05,\n",
      "          1.0398e-05, -3.0781e-05, -4.1325e-06,  3.5208e-05,  1.1478e-05],\n",
      "        [ 8.0175e-06,  4.5681e-06, -6.9236e-06,  9.6994e-06,  4.5456e-06,\n",
      "          3.9709e-09,  2.3693e-05,  1.9397e-05, -1.1170e-05,  1.5203e-06],\n",
      "        [ 8.6697e-06,  1.6125e-05, -1.9047e-05,  1.3843e-05, -1.3890e-05,\n",
      "         -6.1195e-06,  1.2977e-05,  9.3054e-06,  4.6489e-06,  5.1861e-07],\n",
      "        [ 1.2108e-07, -2.2213e-06, -6.2093e-06,  8.7750e-07,  5.2822e-06,\n",
      "          2.1330e-06,  1.5551e-05,  4.4314e-06, -2.4449e-06,  4.5618e-06],\n",
      "        [-2.1578e-06,  7.4575e-06, -5.6863e-06,  1.1277e-06,  1.0778e-05,\n",
      "          3.9181e-06,  1.9598e-05,  1.4812e-05, -1.4437e-05,  4.6577e-06],\n",
      "        [ 1.2810e-05, -1.4412e-05,  1.1418e-06,  4.9380e-06,  1.4493e-05,\n",
      "          1.5802e-06,  9.2372e-06,  1.9164e-06, -3.3459e-05, -3.1639e-05],\n",
      "        [-7.0426e-06, -2.1668e-05, -2.7425e-05, -1.8012e-05,  2.3164e-05,\n",
      "          1.9911e-05,  1.1341e-05, -1.6991e-05, -3.8558e-05, -3.8547e-06],\n",
      "        [ 9.0091e-06,  2.7550e-05, -4.5819e-05,  2.2318e-05,  7.4828e-06,\n",
      "         -3.1459e-05,  4.9301e-05,  3.9133e-05, -2.5039e-05, -2.0968e-06],\n",
      "        [ 7.0244e-06,  1.0594e-05, -1.3159e-05,  1.1125e-05, -7.0941e-09,\n",
      "         -2.2498e-06,  2.6824e-05,  3.3197e-05, -1.4629e-05, -8.9266e-06],\n",
      "        [-7.3206e-06, -1.1785e-05, -4.9773e-07, -5.1024e-07,  4.5424e-06,\n",
      "          1.1617e-05, -7.6492e-06, -2.2282e-05,  2.1496e-06,  1.5630e-05],\n",
      "        [ 5.9177e-06,  5.3374e-06, -1.8771e-05,  9.2902e-06, -1.3685e-05,\n",
      "          1.4324e-05,  3.9728e-06,  6.0255e-06,  1.8850e-05,  3.3063e-05],\n",
      "        [ 1.0974e-05,  2.5691e-05, -5.5413e-06,  1.5042e-05, -1.5716e-05,\n",
      "          7.5750e-06,  2.6095e-05,  2.7136e-05,  5.0041e-06,  2.8612e-06],\n",
      "        [ 2.1768e-06, -4.6751e-06,  5.9193e-06, -1.2619e-06,  8.4619e-06,\n",
      "          1.7468e-06,  3.0373e-06, -1.0400e-05, -1.3117e-05, -6.6053e-06],\n",
      "        [ 3.0816e-05,  4.7788e-05, -1.1742e-05,  4.8367e-05, -2.7839e-05,\n",
      "         -4.7491e-05,  6.7957e-05,  5.6756e-05, -8.9298e-06, -4.5250e-05],\n",
      "        [-3.4341e-05,  3.6258e-06,  1.7410e-06, -1.2928e-05, -1.2979e-05,\n",
      "         -3.1580e-06, -1.7166e-05, -1.7727e-05,  4.4470e-05,  5.5082e-05],\n",
      "        [ 1.8057e-05,  3.2391e-05, -2.5202e-05,  3.2182e-05, -2.1786e-05,\n",
      "         -2.1865e-05,  3.4010e-05,  2.6704e-05,  6.0260e-06,  5.3439e-06],\n",
      "        [-4.5572e-06, -3.6613e-05,  6.7690e-05,  1.0753e-05,  2.6512e-05,\n",
      "          2.7171e-05, -1.8477e-05,  4.0698e-05, -1.8864e-05, -6.4087e-05],\n",
      "        [ 1.0344e-05,  1.9654e-05, -6.1805e-06, -2.9619e-06, -3.5542e-05,\n",
      "         -1.9311e-06,  2.6315e-06,  1.2288e-05,  1.4977e-05, -1.1977e-05],\n",
      "        [ 2.4913e-05,  2.2918e-05, -3.2792e-08,  1.4413e-05, -2.7745e-05,\n",
      "         -2.0949e-06,  1.6471e-05,  2.7298e-05,  1.3630e-05, -1.8268e-05],\n",
      "        [ 1.3596e-06,  5.9067e-06, -1.9989e-05,  4.6421e-06,  3.7921e-06,\n",
      "          6.9189e-07,  3.3523e-05,  2.4977e-05, -1.2646e-05,  2.3991e-06],\n",
      "        [ 1.4885e-06, -3.9117e-06, -3.5799e-06,  5.9288e-07, -4.8058e-07,\n",
      "          6.9508e-06, -1.3503e-06, -5.7007e-07,  1.7233e-06,  7.1407e-06],\n",
      "        [ 7.8159e-06,  1.7228e-05, -4.5081e-06,  3.1508e-06, -1.2828e-05,\n",
      "         -1.8469e-06,  4.1415e-08,  3.3560e-07, -9.6236e-08, -8.6010e-06],\n",
      "        [ 3.4034e-06,  1.4056e-05, -4.4496e-06,  1.1814e-05, -8.3979e-06,\n",
      "         -1.4672e-05,  1.7139e-05,  7.5982e-06,  6.2536e-06, -6.0921e-06],\n",
      "        [ 5.0626e-06, -1.8432e-06, -4.3327e-06,  9.0601e-06,  1.2948e-05,\n",
      "         -2.0216e-06,  2.0585e-05,  1.3069e-05, -2.3982e-05, -2.0817e-05],\n",
      "        [ 6.3847e-05, -2.0740e-05,  7.6852e-06,  3.0905e-05, -1.7935e-05,\n",
      "          3.1970e-05,  3.8863e-05,  4.2396e-05, -4.1573e-05, -7.9445e-05],\n",
      "        [-4.3567e-06,  5.2423e-06, -3.8819e-05, -2.5092e-06, -7.1580e-07,\n",
      "          8.0154e-06,  2.7459e-05,  1.0979e-06, -6.6821e-07,  3.0667e-05],\n",
      "        [ 4.0724e-05, -3.5746e-05, -1.4739e-05, -3.1373e-06,  5.0231e-05,\n",
      "          9.1953e-06,  6.1479e-05,  4.2705e-05, -1.0448e-04, -9.6051e-05],\n",
      "        [ 1.5258e-05, -1.5160e-05, -3.4092e-06,  1.3079e-05,  1.7663e-05,\n",
      "         -1.1080e-06, -1.4950e-05, -2.5901e-05, -2.6262e-06,  3.5844e-05],\n",
      "        [ 3.6995e-05, -8.9749e-06, -1.2301e-05,  1.9918e-05,  1.5219e-05,\n",
      "         -4.4317e-06,  5.1963e-05,  2.8221e-05, -4.9991e-05, -5.9211e-05],\n",
      "        [ 5.2522e-07, -3.2544e-06, -9.9258e-06, -3.7135e-07,  5.1687e-06,\n",
      "          1.2489e-06,  5.9151e-06,  3.5930e-06, -7.9781e-06, -4.8439e-06],\n",
      "        [ 9.8942e-06, -5.4558e-06,  3.9924e-05,  3.1894e-06, -3.8851e-05,\n",
      "          1.9784e-05, -5.5663e-05, -9.6079e-06,  4.7271e-05,  7.6079e-06],\n",
      "        [ 1.5881e-05,  7.0095e-06, -2.8201e-05,  9.8200e-06, -1.7158e-05,\n",
      "          8.0650e-06,  3.2695e-05,  2.6866e-05,  6.5158e-06,  1.0798e-05]],\n",
      "       grad_fn=<SubBackward0>)\n"
     ]
    }
   ],
   "source": [
    "y1 = net(x1)\n",
    "y2 = net(x2)\n",
    "\n",
    "print(y1 - y2)\n"
   ]
  },
  {
   "cell_type": "code",
   "execution_count": 254,
   "id": "3e3d8ce1",
   "metadata": {},
   "outputs": [],
   "source": [
    "class GConv3d(nn.Module):\n",
    "    def __init__(self, in_ch, out_ch, kernel_size, G=4, stride=1, padding=1, padding_mode='circular'):\n",
    "        super(GConv3d, self).__init__()\n",
    "\n",
    "        self.conv = nn.Conv3d(in_ch, out_ch, kernel_size, stride=stride, padding=padding, padding_mode=padding_mode)\n",
    "        self.G = G\n",
    "        \n",
    "    def forward(self, x):\n",
    "        B, _, H, W = x.shape\n",
    "        C = x.shape[1] // self.G\n",
    "        \n",
    "        x_aug = x.view(B, self.G, C, H, W)\n",
    "        x_aug = x_aug.transpose(1, 2)\n",
    "        \n",
    "        y_aug = self.conv(x_aug)\n",
    "        y_aug = y_aug.transpose(1, 2)\n",
    "        y = y_aug.reshape(B, -1, *y_aug.shape[3:])\n",
    "        \n",
    "        return y"
   ]
  },
  {
   "cell_type": "code",
   "execution_count": 197,
   "id": "e945e4d5",
   "metadata": {},
   "outputs": [
    {
     "name": "stdout",
     "output_type": "stream",
     "text": [
      "x1: torch.Size([32, 3, 32, 32])\n",
      "torch.Size([32, 30, 32, 32])\n"
     ]
    }
   ],
   "source": [
    "layer = GConv3d(3, 10, kernel_size=(4, 3, 3), G=4)\n",
    "print('x1:', x1.shape)\n",
    "print(layer(lift_p4(x1)).shape)"
   ]
  },
  {
   "cell_type": "code",
   "execution_count": null,
   "id": "28541daa",
   "metadata": {},
   "outputs": [],
   "source": []
  },
  {
   "cell_type": "code",
   "execution_count": null,
   "id": "0e6433d9",
   "metadata": {},
   "outputs": [],
   "source": []
  }
 ],
 "metadata": {
  "kernelspec": {
   "display_name": "Python 3 (ipykernel)",
   "language": "python",
   "name": "python3"
  },
  "language_info": {
   "codemirror_mode": {
    "name": "ipython",
    "version": 3
   },
   "file_extension": ".py",
   "mimetype": "text/x-python",
   "name": "python",
   "nbconvert_exporter": "python",
   "pygments_lexer": "ipython3",
   "version": "3.10.9"
  }
 },
 "nbformat": 4,
 "nbformat_minor": 5
}
