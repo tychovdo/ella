{
 "cells": [
  {
   "cell_type": "code",
   "execution_count": 74,
   "id": "8a3108dc",
   "metadata": {},
   "outputs": [],
   "source": [
    "import os\n",
    "if not 'notebooks' in os.listdir():\n",
    "    os.chdir('..')"
   ]
  },
  {
   "cell_type": "code",
   "execution_count": 84,
   "id": "2751db0f",
   "metadata": {},
   "outputs": [],
   "source": [
    "import matplotlib.pyplot as plt"
   ]
  },
  {
   "cell_type": "code",
   "execution_count": 121,
   "id": "25f7c447",
   "metadata": {},
   "outputs": [],
   "source": [
    "import torch\n",
    "from torch import nn\n",
    "\n",
    "from asdfghjkl.operations.linear2d import LinearUV\n",
    "\n",
    "import math\n",
    "\n",
    "\n",
    "class FLinear2d(nn.Module):\n",
    "    def __init__(self, in_channels, out_channels, in_shape=(28, 28), out_shape=(14, 14), bias=True):\n",
    "        super().__init__()\n",
    "        self.in_channels = in_channels\n",
    "        self.out_channels = out_channels\n",
    "        self.in_shape = in_shape\n",
    "        self.out_shape = out_shape\n",
    "        self.in_size = in_shape[0] * in_shape[1]\n",
    "        self.out_size = out_shape[0] * out_shape[1]\n",
    "        self.lin_U = LinearUV(in_channels*self.in_size, out_channels, bias=bias)\n",
    "        self.lin_V = LinearUV(out_channels*in_channels, self.out_size, bias=bias)\n",
    "\n",
    "        self.reset_parameters()\n",
    "\n",
    "    def reset_parameters(self):\n",
    "        bound = math.sqrt(3 / self.in_size)\n",
    "        self.lin_U.weight.data.uniform_(-bound, bound)\n",
    "        if self.lin_U.bias is not None:\n",
    "            fan_in = self.in_size\n",
    "            bound = 1 / math.sqrt(fan_in) if fan_in > 0 else 0\n",
    "            nn.init.uniform_(self.lin_U.bias, -bound, bound)\n",
    "\n",
    "        bound = math.sqrt(3 / self.in_channels)\n",
    "        self.lin_V.weight.data.uniform_(-bound, bound)\n",
    "        if self.lin_V.bias is not None:\n",
    "            fan_in = self.in_channels\n",
    "            bound = 1 / math.sqrt(fan_in) if fan_in > 0 else 0\n",
    "            nn.init.uniform_(self.lin_V.bias, -bound, bound)\n",
    "\n",
    "        # self.lin_U.weight.data = torch.sign(self.lin_U.weight.data) * torch.sqrt(torch.abs(self.lin_U.weight.data)) * math.sqrt(2)\n",
    "        # self.lin_V.weight.data = torch.sign(self.lin_V.weight.data) * torch.sqrt(torch.abs(self.lin_V.weight.data)) * math.sqrt(2)\n",
    "\n",
    "    def forward(self, x):\n",
    "        b = x.shape[0]\n",
    "\n",
    "        assert x.shape[1] == self.in_channels, f\"Input does not have right amount of channels ({x.shape[1]} != {self.in_channels})\"\n",
    "        assert x.shape[2] * x.shape[3] == self.in_size, f\"Input does not have a total of {self.in_size} values in spatial dimension ({x.shape})\"\n",
    "\n",
    "        x = x.reshape(-1, self.in_channels, self.in_size)\n",
    "        x = x.permute(1, 0, 2) # cbx\n",
    "        x = torch.block_diag(*x) #zv = (cb)(cx)\n",
    "        x = x.view(self.in_channels, b, -1) # cb(cx)\n",
    "        x = x.permute(1, 0, 2)  # bc(cx)\n",
    "        x = self.lin_U(x) # zd = bc(d)\n",
    "        x = x.permute(2, 0, 1) # dbc\n",
    "        \n",
    "        x = torch.block_diag(*x) # wu = (db)(dc)\n",
    "        \n",
    "        x = x.view(self.out_channels, b, -1) # db(dc)\n",
    "        x = x.permute(1, 0, 2) # bd(dc)\n",
    "    \n",
    "        x = self.lin_V(x) # bd(y)\n",
    "\n",
    "        x = x.view(-1, self.out_channels, *self.out_shape)\n",
    "\n",
    "        return x"
   ]
  },
  {
   "cell_type": "code",
   "execution_count": 122,
   "id": "433e3cae",
   "metadata": {},
   "outputs": [],
   "source": [
    "B, C, H, W = 128, 3, 28, 28\n",
    "\n",
    "x = torch.randn((B, C, H, W))"
   ]
  },
  {
   "cell_type": "code",
   "execution_count": 123,
   "id": "a68c163b",
   "metadata": {},
   "outputs": [],
   "source": [
    "layer = FLinear2d(3, 64)"
   ]
  },
  {
   "cell_type": "code",
   "execution_count": 124,
   "id": "bee7a66b",
   "metadata": {
    "scrolled": false
   },
   "outputs": [
    {
     "name": "stdout",
     "output_type": "stream",
     "text": [
      "CPU times: user 2.06 ms, sys: 0 ns, total: 2.06 ms\n",
      "Wall time: 2.19 ms\n"
     ]
    }
   ],
   "source": [
    "%time y = layer(x)"
   ]
  },
  {
   "cell_type": "code",
   "execution_count": 120,
   "id": "927a47af",
   "metadata": {},
   "outputs": [
    {
     "name": "stdout",
     "output_type": "stream",
     "text": [
      "torch.Size([128, 64, 14, 14])\n"
     ]
    }
   ],
   "source": [
    "print(y.shape)"
   ]
  },
  {
   "cell_type": "code",
   "execution_count": null,
   "id": "94a98f1b",
   "metadata": {},
   "outputs": [],
   "source": []
  },
  {
   "cell_type": "code",
   "execution_count": null,
   "id": "1acf952a",
   "metadata": {},
   "outputs": [],
   "source": []
  },
  {
   "cell_type": "code",
   "execution_count": null,
   "id": "4eab644a",
   "metadata": {},
   "outputs": [],
   "source": []
  },
  {
   "cell_type": "code",
   "execution_count": 72,
   "id": "486de869",
   "metadata": {},
   "outputs": [],
   "source": [
    "B, C, H, W = 128, 4, 28, 28\n",
    "\n",
    "x2 = torch.randn((B, C, H, W))\n",
    "\n",
    "l2 = nn.Conv2d(4, 64, 3, groups=2)"
   ]
  },
  {
   "cell_type": "code",
   "execution_count": 73,
   "id": "02252546",
   "metadata": {},
   "outputs": [
    {
     "name": "stdout",
     "output_type": "stream",
     "text": [
      "torch.Size([128, 64, 26, 26])\n"
     ]
    }
   ],
   "source": [
    "print(l2(x2).shape)"
   ]
  },
  {
   "cell_type": "code",
   "execution_count": null,
   "id": "d63dfd7b",
   "metadata": {},
   "outputs": [],
   "source": []
  }
 ],
 "metadata": {
  "kernelspec": {
   "display_name": "Python 3 (ipykernel)",
   "language": "python",
   "name": "python3"
  },
  "language_info": {
   "codemirror_mode": {
    "name": "ipython",
    "version": 3
   },
   "file_extension": ".py",
   "mimetype": "text/x-python",
   "name": "python",
   "nbconvert_exporter": "python",
   "pygments_lexer": "ipython3",
   "version": "3.10.9"
  }
 },
 "nbformat": 4,
 "nbformat_minor": 5
}
