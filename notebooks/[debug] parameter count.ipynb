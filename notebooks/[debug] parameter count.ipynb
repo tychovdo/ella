{
 "cells": [
  {
   "cell_type": "code",
   "execution_count": 1,
   "id": "d53c0d89",
   "metadata": {},
   "outputs": [],
   "source": [
    "import os, sys\n",
    "if 'notebooks' not in os.listdir():\n",
    "    os.chdir('..')"
   ]
  },
  {
   "cell_type": "code",
   "execution_count": 18,
   "id": "3e17d6c6",
   "metadata": {},
   "outputs": [],
   "source": [
    "import torch\n",
    "import numpy as np\n",
    "\n",
    "from sparse.slinear import SLinear2d\n",
    "from sparse.sconv import SConv2d\n",
    "\n",
    "from sparse.rpp_conv import S_FC, S_Conv, S_RPP"
   ]
  },
  {
   "cell_type": "code",
   "execution_count": null,
   "id": "66271a05",
   "metadata": {},
   "outputs": [],
   "source": []
  },
  {
   "cell_type": "code",
   "execution_count": 19,
   "id": "c1db7233",
   "metadata": {},
   "outputs": [],
   "source": [
    "s_conv = S_Conv(alpha=10)\n",
    "s_fc = S_FC(alpha=10)\n",
    "s_rpp = S_RPP(alpha=10)\n",
    "\n",
    "s_fc_p = torch.cat([x.reshape(-1) for x in s_fc.parameters()]).shape\n",
    "s_conv_p = torch.cat([x.reshape(-1) for x in s_conv.parameters()]).shape\n",
    "s_rpp_p = torch.cat([x.reshape(-1) for x in s_rpp.parameters()]).shape"
   ]
  },
  {
   "cell_type": "code",
   "execution_count": 20,
   "id": "1fe9b894",
   "metadata": {},
   "outputs": [
    {
     "data": {
      "text/plain": [
       "(1814190, 1397540)"
      ]
     },
     "execution_count": 20,
     "metadata": {},
     "output_type": "execute_result"
    }
   ],
   "source": [
    "s_fc_p[0] + s_conv_p[0], s_rpp_p[0]"
   ]
  },
  {
   "cell_type": "code",
   "execution_count": 26,
   "id": "6fa43fcd",
   "metadata": {},
   "outputs": [
    {
     "name": "stdout",
     "output_type": "stream",
     "text": [
      "<class 'sparse.rpp_conv.S_Conv'>\n",
      "0 conv_net.0.conv.u 120\n",
      "1 conv_net.0.conv.bias 10\n",
      "2 conv_net.1.conv.u 800\n",
      "3 conv_net.1.conv.bias 20\n",
      "4 conv_net.2.conv.u 1600\n",
      "5 conv_net.2.conv.bias 20\n",
      "6 conv_net.3.conv.u 3200\n",
      "7 conv_net.3.conv.bias 40\n",
      "8 conv_net.4.conv.u 6400\n",
      "9 conv_net.4.conv.bias 40\n",
      "10 conv_net.5.conv.u 12800\n",
      "11 conv_net.5.conv.bias 80\n",
      "12 conv_net.6.conv.u 25600\n",
      "13 conv_net.6.conv.bias 80\n",
      "14 conv_net.7.conv.u 51200\n",
      "15 conv_net.7.conv.bias 160\n",
      "16 linear1.weight 409600\n",
      "17 linear1.bias 640\n",
      "18 linear2.weight 6400\n",
      "19 linear2.bias 10\n",
      "L: 416650 C: 102170\n",
      "<class 'sparse.rpp_conv.S_FC'>\n",
      "0 conv_net.0.linear.u_in 15360\n",
      "1 conv_net.0.linear.u_out 15360\n",
      "2 conv_net.0.linear.bias 10240\n",
      "3 conv_net.1.linear.u_in 102400\n",
      "4 conv_net.1.linear.u_out 25600\n",
      "5 conv_net.1.linear.bias 5120\n",
      "6 conv_net.2.linear.u_in 51200\n",
      "7 conv_net.2.linear.u_out 51200\n",
      "8 conv_net.2.linear.bias 5120\n",
      "9 conv_net.3.linear.u_in 102400\n",
      "10 conv_net.3.linear.u_out 25600\n",
      "11 conv_net.3.linear.bias 2560\n",
      "12 conv_net.4.linear.u_in 51200\n",
      "13 conv_net.4.linear.u_out 51200\n",
      "14 conv_net.4.linear.bias 2560\n",
      "15 conv_net.5.linear.u_in 102400\n",
      "16 conv_net.5.linear.u_out 25600\n",
      "17 conv_net.5.linear.bias 1280\n",
      "18 conv_net.6.linear.u_in 51200\n",
      "19 conv_net.6.linear.u_out 51200\n",
      "20 conv_net.6.linear.bias 1280\n",
      "21 conv_net.7.linear.u_in 102400\n",
      "22 conv_net.7.linear.u_out 25600\n",
      "23 conv_net.7.linear.bias 640\n",
      "24 linear1.weight 409600\n",
      "25 linear1.bias 640\n",
      "26 linear2.weight 6400\n",
      "27 linear2.bias 10\n",
      "L: 1295370 C: 0\n",
      "<class 'sparse.rpp_conv.S_RPP'>\n",
      "0 conv_net.0.conv.u 120\n",
      "1 conv_net.0.conv.bias 10\n",
      "2 conv_net.0.linear.u_in 15360\n",
      "3 conv_net.0.linear.u_out 15360\n",
      "4 conv_net.0.linear.bias 10240\n",
      "5 conv_net.1.conv.u 800\n",
      "6 conv_net.1.conv.bias 20\n",
      "7 conv_net.1.linear.u_in 102400\n",
      "8 conv_net.1.linear.u_out 25600\n",
      "9 conv_net.1.linear.bias 5120\n",
      "10 conv_net.2.conv.u 1600\n",
      "11 conv_net.2.conv.bias 20\n",
      "12 conv_net.2.linear.u_in 51200\n",
      "13 conv_net.2.linear.u_out 51200\n",
      "14 conv_net.2.linear.bias 5120\n",
      "15 conv_net.3.conv.u 3200\n",
      "16 conv_net.3.conv.bias 40\n",
      "17 conv_net.3.linear.u_in 102400\n",
      "18 conv_net.3.linear.u_out 25600\n",
      "19 conv_net.3.linear.bias 2560\n",
      "20 conv_net.4.conv.u 6400\n",
      "21 conv_net.4.conv.bias 40\n",
      "22 conv_net.4.linear.u_in 51200\n",
      "23 conv_net.4.linear.u_out 51200\n",
      "24 conv_net.4.linear.bias 2560\n",
      "25 conv_net.5.conv.u 12800\n",
      "26 conv_net.5.conv.bias 80\n",
      "27 conv_net.5.linear.u_in 102400\n",
      "28 conv_net.5.linear.u_out 25600\n",
      "29 conv_net.5.linear.bias 1280\n",
      "30 conv_net.6.conv.u 25600\n",
      "31 conv_net.6.conv.bias 80\n",
      "32 conv_net.6.linear.u_in 51200\n",
      "33 conv_net.6.linear.u_out 51200\n",
      "34 conv_net.6.linear.bias 1280\n",
      "35 conv_net.7.conv.u 51200\n",
      "36 conv_net.7.conv.bias 160\n",
      "37 conv_net.7.linear.u_in 102400\n",
      "38 conv_net.7.linear.u_out 25600\n",
      "39 conv_net.7.linear.bias 640\n",
      "40 linear1.weight 409600\n",
      "41 linear1.bias 640\n",
      "42 linear2.weight 6400\n",
      "43 linear2.bias 10\n",
      "L: 1295370 C: 102170\n"
     ]
    }
   ],
   "source": [
    "for model in [s_conv, s_fc, s_rpp]:\n",
    "    print(type(model))\n",
    "    L, C = 0, 0\n",
    "    for i, (n, p) in enumerate(model.named_parameters()):\n",
    "        P = np.prod(p.shape)\n",
    "        if 'linear' in n:\n",
    "            L += P\n",
    "        elif 'conv' in n:\n",
    "            C += P\n",
    "    print('L:', L, 'C:', C)"
   ]
  },
  {
   "cell_type": "code",
   "execution_count": null,
   "id": "6d70cca4",
   "metadata": {},
   "outputs": [],
   "source": []
  }
 ],
 "metadata": {
  "kernelspec": {
   "display_name": "Python 3 (ipykernel)",
   "language": "python",
   "name": "python3"
  },
  "language_info": {
   "codemirror_mode": {
    "name": "ipython",
    "version": 3
   },
   "file_extension": ".py",
   "mimetype": "text/x-python",
   "name": "python",
   "nbconvert_exporter": "python",
   "pygments_lexer": "ipython3",
   "version": "3.9.12"
  }
 },
 "nbformat": 4,
 "nbformat_minor": 5
}
