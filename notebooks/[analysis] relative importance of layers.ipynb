{
 "cells": [
  {
   "cell_type": "code",
   "execution_count": 46,
   "id": "081f75c6",
   "metadata": {},
   "outputs": [],
   "source": [
    "import wandb\n",
    "import numpy as np"
   ]
  },
  {
   "cell_type": "code",
   "execution_count": 47,
   "id": "6751ee04",
   "metadata": {},
   "outputs": [],
   "source": [
    "api = wandb.Api()\n",
    "entity, project = \"tychovdo\", \"sparse\"  \n",
    "runs = api.runs(entity + \"/\" + project) \n",
    "\n",
    "summary_list, config_list, name_list = [], [], []\n",
    "for run in runs: \n",
    "    # .summary contains output keys/values for \n",
    "    # metrics such as accuracy.\n",
    "    #  We call ._json_dict to omit large files \n",
    "    summary_list.append(run.summary._json_dict)\n",
    "\n",
    "    # .config contains the hyperparameters.\n",
    "    #  We remove special values that start with _.\n",
    "    config_list.append(\n",
    "        {k: v for k,v in run.config.items()\n",
    "         if not k.startswith('_')})\n",
    "\n",
    "    # .name is the human-readable name of the run.\n",
    "    name_list.append(run.name)\n",
    "    \n",
    "data = list(zip(summary_list, config_list, name_list))"
   ]
  },
  {
   "cell_type": "code",
   "execution_count": 48,
   "id": "6ed35422",
   "metadata": {},
   "outputs": [
    {
     "name": "stdout",
     "output_type": "stream",
     "text": [
      "runs: 2\n"
     ]
    }
   ],
   "source": [
    "def get_runs(model, kron, dataset='cifar10'):\n",
    "    runs = []\n",
    "    for summary, config, name in data:\n",
    "        is_kron = config['n_epochs_burnin'] < 100\n",
    "        if (config['model'] == model) and \\\n",
    "            config['dataset'] == dataset and \\\n",
    "            (is_kron == kron):\n",
    "            runs.append((dict(summary), dict(config), list(name)))\n",
    "    return runs\n",
    "\n",
    "runs = get_runs('f_rpp', True)\n",
    "print('runs:', len(runs))\n",
    "run = runs[0]"
   ]
  },
  {
   "cell_type": "code",
   "execution_count": 49,
   "id": "21597bbc",
   "metadata": {},
   "outputs": [],
   "source": [
    "def print_table1(model, dataset):\n",
    "    runs = get_runs(model, True, dataset=dataset)\n",
    "    run = runs[0]\n",
    "    \n",
    "    summary, config, name = run\n",
    "    \n",
    "    for layer in range(8):\n",
    "        if model == 'd_rpp':\n",
    "            lin_prec = summary[f'hyperparams/prior_prec_conv_net.{layer}.linear.weight']\n",
    "            conv_prec = summary[f'hyperparams/prior_prec_conv_net.{layer}.conv.weight']\n",
    "            \n",
    "            lin_weight = summary[f'params/conv_net.{layer}.linear.weight']\n",
    "            conv_weight = summary[f'params/conv_net.{layer}.conv.weight']\n",
    "            \n",
    "            lin_neff = summary[f'hyperparams/norm_effect_dim_conv_net.{layer}.linear.weight']\n",
    "            conv_neff = summary[f'hyperparams/norm_effect_dim_conv_net.{layer}.conv.weight']\n",
    "            \n",
    "            lin_reff = summary[f'hyperparams/norm_effect_dim_conv_net.{layer}.linear.weight']\n",
    "            conv_reff = summary[f'hyperparams/norm_effect_dim_conv_net.{layer}.conv.weight']\n",
    "            total_reff = lin_reff + conv_reff\n",
    "            lin_reff = lin_reff / total_reff\n",
    "            conv_reff = conv_reff / total_reff\n",
    "            \n",
    "            if lin_reff > conv_reff:\n",
    "                layer_type = 'FC'\n",
    "            else:\n",
    "                layer_type = 'CONV'\n",
    "            \n",
    "            print(f\"{layer} & \"\n",
    "                  f\"{lin_prec:8.8f} & {conv_prec:8.8f} & \"\n",
    "                  f\"{lin_weight:8.8f} & {conv_weight:8.8f} & \"\n",
    "                  f\"{lin_neff:8.8f} & {conv_neff:8.8f} & \"\n",
    "                  f\"{lin_reff:8.8f} & {conv_reff:8.8f} & {layer_type} \\\\\\\\\")\n",
    "            \n",
    "        elif model == 'f_rpp':\n",
    "            pass\n",
    "        elif model == 'mixer1':\n",
    "            pass\n",
    "        "
   ]
  },
  {
   "cell_type": "code",
   "execution_count": 50,
   "id": "e5930ffb",
   "metadata": {},
   "outputs": [
    {
     "name": "stdout",
     "output_type": "stream",
     "text": [
      "0 & 3588348.50000000 & 0.07513507 & 0.00000000 & 10.74257360 & 0.00000002 & 0.80731778 & 0.00000003 & 0.99999997 & CONV \\\\\n",
      "1 & 2750749.50000000 & 1.26366782 & 0.00000000 & 0.55490241 & 0.00000007 & 0.70107951 & 0.00000010 & 0.99999990 & CONV \\\\\n",
      "2 & 5898884.50000000 & 14.50690365 & 0.00000000 & 0.04562404 & 0.00000014 & 0.66181451 & 0.00000021 & 0.99999979 & CONV \\\\\n",
      "3 & 22690960.00000000 & 230.75096130 & 0.00000000 & 0.00216724 & 0.00000089 & 0.50004517 & 0.00000178 & 0.99999822 & CONV \\\\\n",
      "4 & 29633508.00000000 & 5438.10449219 & 0.00000000 & 0.00007521 & 0.00000772 & 0.40905216 & 0.00001888 & 0.99998112 & CONV \\\\\n",
      "5 & 35631228.00000000 & 3797.48779297 & 0.00000000 & 0.00003772 & 0.00000379 & 0.14326709 & 0.00002643 & 0.99997357 & CONV \\\\\n",
      "6 & 635.57513428 & 31321916.00000000 & 0.00001135 & 0.00000000 & 0.00721232 & 0.00000522 & 0.99927627 & 0.00072373 & FC \\\\\n",
      "7 & 35582056.00000000 & 1.75766361 & 0.00000000 & 0.00259477 & 0.00000009 & 0.00456014 & 0.00001874 & 0.99998126 & CONV \\\\\n"
     ]
    }
   ],
   "source": [
    "model, dataset = 'd_rpp', 'cifar10'\n",
    "print_table1(model, dataset)"
   ]
  },
  {
   "cell_type": "code",
   "execution_count": 51,
   "id": "9b9ef6f3",
   "metadata": {},
   "outputs": [],
   "source": [
    "def print_table2(model, dataset):\n",
    "    runs = get_runs(model, True, dataset=dataset)\n",
    "    #print(len(runs))\n",
    "    \n",
    "    run = runs[0]\n",
    "    \n",
    "    summary, config, name = run\n",
    "    \n",
    "    lin_list, conv_list, gconv_list = [], [], []\n",
    "    \n",
    "    for layer in range(8):\n",
    "        if model == 'd_rpp':\n",
    "            pass\n",
    "        elif model == 'f_rpp':\n",
    "            pass\n",
    "        elif model == 'mixer1':\n",
    "            linu_reff = summary[f'hyperparams/norm_effect_dim_conv_net.{layer}.linear.lin_U.weight']\n",
    "            linv_reff = summary[f'hyperparams/norm_effect_dim_conv_net.{layer}.linear.lin_V.weight']\n",
    "            conv_reff = summary[f'hyperparams/norm_effect_dim_conv_net.{layer}.conv.weight']\n",
    "            gconv_reff = summary[f'hyperparams/norm_effect_dim_conv_net.{layer}.gconv.conv.weight']\n",
    "            \n",
    "            lin_reff = (linu_reff + linv_reff) / 2\n",
    "            total_reff = lin_reff + conv_reff + gconv_reff\n",
    "            \n",
    "            lin_reff = lin_reff / total_reff\n",
    "            conv_reff = conv_reff / total_reff\n",
    "            gconv_reff = gconv_reff / total_reff\n",
    "            \n",
    "            if lin_reff > conv_reff > gconv_reff:\n",
    "                layer_type = 'FC'\n",
    "            elif conv_reff > lin_reff > gconv_reff:\n",
    "                layer_type = 'CONV'\n",
    "            else:\n",
    "                layer_type = 'GCONV'\n",
    "                \n",
    "            lin_list.append(lin_reff)\n",
    "            conv_list.append(conv_reff)\n",
    "            gconv_list.append(gconv_reff)\n",
    "            \n",
    "            if False:\n",
    "                print(f\"{layer} & \"\\\n",
    "                      f\"{linu_reff:8.8f} & \" \\\n",
    "                      f\"{linv_reff:8.8f} & \" \\\n",
    "                      f\"{conv_reff:8.8f} & \" \\\n",
    "                      f\"{gconv_reff:8.8f} & {layer_type} \\\\\")\n",
    "    lin_mean = np.mean(lin_list)\n",
    "    conv_mean = np.mean(conv_list)\n",
    "    gconv_mean = np.mean(gconv_list)\n",
    "    lin_min = np.min(lin_list)\n",
    "    conv_min = np.min(conv_list)\n",
    "    gconv_min = np.min(gconv_list)\n",
    "    lin_max = np.max(lin_list)\n",
    "    conv_max = np.max(conv_list)\n",
    "    gconv_max = np.max(gconv_list)\n",
    "       \n",
    "    if False:\n",
    "        print(f\"MEAN: & \"\\\n",
    "              f\"{lin_mean:.2f} & \" \\\n",
    "              f\"{conv_mean:.2f} & \" \\\n",
    "              f\"{gconv_mean:.2f} & {layer_type} \\\\\")   \n",
    "        print(f\"MIN: & \"\\\n",
    "          f\"{lin_min:.2f} & \" \\\n",
    "          f\"{conv_min:.2f} & \" \\\n",
    "          f\"{gconv_min:.2f} & {layer_type} \\\\\")   \n",
    "        print(f\"MAX: & \"\\\n",
    "          f\"{lin_max:.2f} & \" \\\n",
    "          f\"{conv_max:.2f} & \" \\\n",
    "          f\"{gconv_max:.2f} & {layer_type} \\\\\")   \n",
    "    \n",
    "    AA = '\\\\textcolor{gray}{'\n",
    "    BB = '}'\n",
    "    print(f\"\"\\\n",
    "      f\"{int(np.round(lin_mean*100))} & {AA}({int(np.round(lin_min*100))}-{int(np.round(lin_max*100))}){BB} & \" \\\n",
    "      f\"{int(np.round(conv_mean*100))} & {AA}({int(np.round(conv_min*100))}-{int(np.round(conv_max*100))}){BB} & \" \\\n",
    "      f\"{int(np.round(gconv_mean*100))} & {AA}({int(np.round(gconv_min*100))}-{int(np.round(gconv_max*100))}){BB} \\\\\\\\\")       "
   ]
  },
  {
   "cell_type": "code",
   "execution_count": null,
   "id": "59ad4b3f",
   "metadata": {},
   "outputs": [],
   "source": []
  },
  {
   "cell_type": "code",
   "execution_count": 52,
   "id": "ac31faac",
   "metadata": {
    "scrolled": true
   },
   "outputs": [
    {
     "name": "stdout",
     "output_type": "stream",
     "text": [
      "10 & \\textcolor{gray}{(0-46)} & 15 & \\textcolor{gray}{(0-98)} & 75 & \\textcolor{gray}{(1-100)} \\\\\n",
      "0 & \\textcolor{gray}{(0-0)} & 23 & \\textcolor{gray}{(0-99)} & 77 & \\textcolor{gray}{(1-100)} \\\\\n",
      "8 & \\textcolor{gray}{(0-20)} & 8 & \\textcolor{gray}{(0-47)} & 83 & \\textcolor{gray}{(47-100)} \\\\\n",
      "0 & \\textcolor{gray}{(0-1)} & 44 & \\textcolor{gray}{(0-99)} & 56 & \\textcolor{gray}{(0-100)} \\\\\n",
      "5 & \\textcolor{gray}{(0-28)} & 14 & \\textcolor{gray}{(0-41)} & 81 & \\textcolor{gray}{(58-99)} \\\\\n"
     ]
    }
   ],
   "source": [
    "model, dataset = 'mixer1', 'mnist'\n",
    "print_table2(model, dataset)\n",
    "model, dataset = 'mixer1', 'translated_mnist'\n",
    "print_table2(model, dataset)\n",
    "model, dataset = 'mixer1', 'mnist_r180'\n",
    "print_table2(model, dataset)\n",
    "\n",
    "model, dataset = 'mixer1', 'cifar10'\n",
    "print_table2(model, dataset)\n",
    "model, dataset = 'mixer1', 'cifar10_r180'\n",
    "print_table2(model, dataset)"
   ]
  },
  {
   "cell_type": "code",
   "execution_count": null,
   "id": "f67d8375",
   "metadata": {},
   "outputs": [],
   "source": []
  },
  {
   "cell_type": "code",
   "execution_count": null,
   "id": "69060415",
   "metadata": {},
   "outputs": [],
   "source": []
  },
  {
   "cell_type": "code",
   "execution_count": null,
   "id": "2a4d6846",
   "metadata": {},
   "outputs": [],
   "source": []
  },
  {
   "cell_type": "code",
   "execution_count": null,
   "id": "9ea5bb4c",
   "metadata": {},
   "outputs": [],
   "source": []
  }
 ],
 "metadata": {
  "kernelspec": {
   "display_name": "Python 3 (ipykernel)",
   "language": "python",
   "name": "python3"
  },
  "language_info": {
   "codemirror_mode": {
    "name": "ipython",
    "version": 3
   },
   "file_extension": ".py",
   "mimetype": "text/x-python",
   "name": "python",
   "nbconvert_exporter": "python",
   "pygments_lexer": "ipython3",
   "version": "3.10.9"
  }
 },
 "nbformat": 4,
 "nbformat_minor": 5
}
