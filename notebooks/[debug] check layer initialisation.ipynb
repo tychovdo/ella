{
 "cells": [
  {
   "cell_type": "code",
   "execution_count": 1,
   "id": "86606dd3",
   "metadata": {},
   "outputs": [],
   "source": [
    "import os, sys\n",
    "if 'notebooks' not in os.listdir():\n",
    "    os.chdir('..')"
   ]
  },
  {
   "cell_type": "code",
   "execution_count": 2,
   "id": "655c5fcf",
   "metadata": {},
   "outputs": [
    {
     "name": "stdout",
     "output_type": "stream",
     "text": [
      "Sat May  6 13:12:36 2023       \r\n",
      "+-----------------------------------------------------------------------------+\r\n",
      "| NVIDIA-SMI 525.105.17   Driver Version: 525.105.17   CUDA Version: 12.0     |\r\n",
      "|-------------------------------+----------------------+----------------------+\r\n",
      "| GPU  Name        Persistence-M| Bus-Id        Disp.A | Volatile Uncorr. ECC |\r\n",
      "| Fan  Temp  Perf  Pwr:Usage/Cap|         Memory-Usage | GPU-Util  Compute M. |\r\n",
      "|                               |                      |               MIG M. |\r\n",
      "|===============================+======================+======================|\r\n",
      "|   0  NVIDIA GeForce ...  Off  | 00000000:01:00.0 Off |                  N/A |\r\n",
      "|  0%   37C    P8    16W / 380W |     85MiB / 10240MiB |      0%      Default |\r\n",
      "|                               |                      |                  N/A |\r\n",
      "+-------------------------------+----------------------+----------------------+\r\n",
      "                                                                               \r\n",
      "+-----------------------------------------------------------------------------+\r\n",
      "| Processes:                                                                  |\r\n",
      "|  GPU   GI   CI        PID   Type   Process name                  GPU Memory |\r\n",
      "|        ID   ID                                                   Usage      |\r\n",
      "|=============================================================================|\r\n",
      "|    0   N/A  N/A      5017      G   /usr/lib/xorg/Xorg                 81MiB |\r\n",
      "+-----------------------------------------------------------------------------+\r\n"
     ]
    }
   ],
   "source": [
    "!nvidia-smi"
   ]
  },
  {
   "cell_type": "code",
   "execution_count": 3,
   "id": "37318373",
   "metadata": {},
   "outputs": [],
   "source": [
    "import torch\n",
    "\n",
    "from sparse.slinear2d import SLinear2d\n",
    "from torch.nn import Linear\n",
    "from torch import nn\n",
    "\n",
    "from sparse.sconv2d import SConv2d\n",
    "\n",
    "from torch.nn import Conv2d\n",
    "\n",
    "import matplotlib.pyplot as plt"
   ]
  },
  {
   "cell_type": "code",
   "execution_count": 4,
   "id": "bbc96c74",
   "metadata": {},
   "outputs": [
    {
     "name": "stdout",
     "output_type": "stream",
     "text": [
      "torch.Size([1000, 2, 64, 64])\n",
      "tensor(0.0004) tensor(1.0001)\n"
     ]
    }
   ],
   "source": [
    "N = 1000\n",
    "c_in, c_out = 2, 20\n",
    "x = torch.randn((N, c_in, 64, 64))\n",
    "print(x.shape)\n",
    "print(x.mean(), x.std())"
   ]
  },
  {
   "cell_type": "code",
   "execution_count": 5,
   "id": "c131883c",
   "metadata": {},
   "outputs": [
    {
     "name": "stdout",
     "output_type": "stream",
     "text": [
      "out_shape: (14, 14)\n",
      "out_size: 196\n",
      "weight: 20 2 196\n",
      "weight: torch.Size([196, 40])\n",
      "False False False True\n",
      "22 True\n",
      "33 Parameter containing:\n",
      "tensor([0., 0., 0., 0., 0., 0., 0., 0., 0., 0., 0., 0., 0., 0., 0., 0., 0., 0., 0., 0.],\n",
      "       requires_grad=True)\n"
     ]
    }
   ],
   "source": [
    "slinear = SLinear2d(c_in, c_out, (64, 64))\n",
    "linear = Linear(c_in*64*64, c_out*64*64)\n",
    "\n",
    "sconv = SConv2d(c_in, c_out, 3)\n",
    "conv = Conv2d(c_in, c_out, 3)"
   ]
  },
  {
   "cell_type": "code",
   "execution_count": 6,
   "id": "40c7b116",
   "metadata": {},
   "outputs": [
    {
     "name": "stdout",
     "output_type": "stream",
     "text": [
      "torch.Size([1000, 81920])\n",
      "tensor(-4.1535e-05, grad_fn=<MeanBackward0>) tensor(1.1548, grad_fn=<StdBackward0>)\n"
     ]
    }
   ],
   "source": [
    "y = linear(x.view(N, -1)) * 2.\n",
    "print(y.shape)\n",
    "print(y.mean(), y.std())"
   ]
  },
  {
   "cell_type": "code",
   "execution_count": 7,
   "id": "d1515954",
   "metadata": {},
   "outputs": [
    {
     "name": "stdout",
     "output_type": "stream",
     "text": [
      "torch.Size([1000, 20, 14, 14])\n",
      "tensor(-0.0003, grad_fn=<MeanBackward0>) tensor(2.7849, grad_fn=<StdBackward0>)\n"
     ]
    }
   ],
   "source": [
    "y = slinear(x) * 2.\n",
    "print(y.shape)\n",
    "print(y.mean(), y.std())"
   ]
  },
  {
   "cell_type": "code",
   "execution_count": 8,
   "id": "3cd1d264",
   "metadata": {},
   "outputs": [
    {
     "name": "stdout",
     "output_type": "stream",
     "text": [
      "torch.Size([1000, 20, 62, 62])\n",
      "tensor(-0.0281, grad_fn=<MeanBackward0>) tensor(0.5561, grad_fn=<StdBackward0>)\n"
     ]
    }
   ],
   "source": [
    "y = conv(x) * 1.\n",
    "print(y.shape)\n",
    "print(y.mean(), y.std())"
   ]
  },
  {
   "cell_type": "code",
   "execution_count": 9,
   "id": "3aa52bc6",
   "metadata": {},
   "outputs": [
    {
     "name": "stdout",
     "output_type": "stream",
     "text": [
      "torch.Size([1000, 20, 62, 62])\n",
      "tensor(-0.0007, grad_fn=<MeanBackward0>) tensor(0.6029, grad_fn=<StdBackward0>)\n"
     ]
    }
   ],
   "source": [
    "y = sconv(x) * 1.\n",
    "print(y.shape)\n",
    "print(y.mean(), y.std())\n"
   ]
  },
  {
   "cell_type": "code",
   "execution_count": 10,
   "id": "0603ed4a",
   "metadata": {},
   "outputs": [],
   "source": [
    "from sparse.flinear2d import FLinear2d"
   ]
  },
  {
   "cell_type": "code",
   "execution_count": 11,
   "id": "becf8201",
   "metadata": {},
   "outputs": [
    {
     "name": "stdout",
     "output_type": "stream",
     "text": [
      "torch.Size([1000, 3, 64, 64])\n",
      "tensor(-0.0001) tensor(1.0002)\n"
     ]
    }
   ],
   "source": [
    "N = 1000\n",
    "c_in, c_out = 3, 12\n",
    "x = torch.randn((N, c_in, 64, 64))\n",
    "print(x.shape)\n",
    "print(x.mean(), x.std())"
   ]
  },
  {
   "cell_type": "code",
   "execution_count": 12,
   "id": "c8bba93c",
   "metadata": {},
   "outputs": [],
   "source": [
    "flinear = FLinear2d(c_in, c_out, (64, 64), (32, 32))\n",
    "linear = Linear(c_in*64*64, c_out*32*32)\n",
    "\n",
    "#flinear.lin_U.weight.data = torch.sign(flinear.lin_U.weight.data) * torch.sqrt(flinear.lin_U.weight.data)\n",
    "#flinear.lin_V.weight.data = torch.sign(flinear.lin_V.weight.data) * torch.sqrt(flinear.lin_V.weight.data)"
   ]
  },
  {
   "cell_type": "code",
   "execution_count": 13,
   "id": "5070e70f",
   "metadata": {},
   "outputs": [
    {
     "name": "stdout",
     "output_type": "stream",
     "text": [
      "torch.Size([1000, 12288])\n",
      "tensor(0.0002, grad_fn=<MeanBackward0>) tensor(1.1550, grad_fn=<StdBackward0>)\n"
     ]
    }
   ],
   "source": [
    "y = linear(x.view(N, -1)) * 2.\n",
    "print(y.shape)\n",
    "print(y.mean(), y.std())"
   ]
  },
  {
   "cell_type": "code",
   "execution_count": 14,
   "id": "590d6a2c",
   "metadata": {},
   "outputs": [
    {
     "name": "stdout",
     "output_type": "stream",
     "text": [
      "tensor(-0.0001) tensor(1.0002)\n",
      "torch.Size([1000, 12, 32, 32])\n",
      "tensor(-0.0044, grad_fn=<MeanBackward0>) tensor(1.0514, grad_fn=<StdBackward0>)\n"
     ]
    }
   ],
   "source": [
    "print(x.mean(), x.std())\n",
    "y = flinear(x)\n",
    "print(y.shape)\n",
    "print(y.mean(), y.std())"
   ]
  },
  {
   "cell_type": "markdown",
   "id": "3550566a",
   "metadata": {},
   "source": [
    "#### slinear"
   ]
  },
  {
   "cell_type": "code",
   "execution_count": 15,
   "id": "fe0a4f86",
   "metadata": {},
   "outputs": [],
   "source": [
    "def plot_slinear(slinear):\n",
    "    weightU = slinear.lin_U.weight_fn()\n",
    "    print(1024, 'U_out', slinear.lin_U.out_channels, 'U_in', slinear.lin_U.in_channels)\n",
    "    print('U:', weightU.shape)\n",
    "    weightU = weightU.view(c_out, c_in, 1024)\n",
    "    print('U:', weightU.shape, weightU.std())\n",
    "\n",
    "    weightV = slinear.lin_V.weight_fn()\n",
    "    print('V:', weightV.shape)\n",
    "    weightV = weightV.view(256, c_out, c_in)\n",
    "    print('V:', weightV.shape)\n",
    "\n",
    "    print(weightV.shape, weightV.std())\n",
    "\n",
    "    plt.subplot(1, 2, 1)\n",
    "    plt.imshow(weightU[0, 0, :].reshape(32, 32).detach())\n",
    "    plt.subplot(1, 2, 2)\n",
    "    plt.imshow(weightV[:, 0, 0].reshape(16, 16).detach())\n",
    "    plt.show()"
   ]
  },
  {
   "cell_type": "code",
   "execution_count": 16,
   "id": "797f1802",
   "metadata": {},
   "outputs": [
    {
     "name": "stdout",
     "output_type": "stream",
     "text": [
      "torch.Size([2, 3, 32, 32])\n",
      "tensor(0.0067) tensor(1.0103)\n"
     ]
    }
   ],
   "source": [
    "N = 2\n",
    "c_in, c_out = 3, 16\n",
    "x = torch.randn((N, c_in, 32, 32))\n",
    "print(x.shape)\n",
    "print(x.mean(), x.std())"
   ]
  },
  {
   "cell_type": "code",
   "execution_count": 17,
   "id": "411520d0",
   "metadata": {},
   "outputs": [
    {
     "name": "stdout",
     "output_type": "stream",
     "text": [
      "out_shape: (16, 16)\n",
      "out_size: 256\n",
      "weight: 16 3 256\n",
      "weight: torch.Size([256, 48])\n",
      "y1: torch.Size([2, 16, 16, 16])\n",
      "y1: tensor(-0.0217, grad_fn=<MeanBackward0>) tensor(1.3427, grad_fn=<StdBackward0>)\n"
     ]
    }
   ],
   "source": [
    "slinear = SLinear2d(c_in, c_out, (32, 32), (16, 16))\n",
    "\n",
    "y = slinear(x)\n",
    "print('y1:', y.shape)\n",
    "print('y1:', y.mean(), y.std())"
   ]
  },
  {
   "cell_type": "code",
   "execution_count": 18,
   "id": "27e6ea72",
   "metadata": {},
   "outputs": [
    {
     "name": "stdout",
     "output_type": "stream",
     "text": [
      "torch.Size([16, 3072]) tensor(0.0310, grad_fn=<StdBackward0>)\n",
      "torch.Size([256, 48]) tensor(0.8153, grad_fn=<StdBackward0>)\n"
     ]
    }
   ],
   "source": [
    "weightU = slinear.lin_U.weight_fn()\n",
    "print(weightU.shape, weightU.std())\n",
    "\n",
    "weightV = slinear.lin_V.weight_fn()\n",
    "print(weightV.shape, weightV.std())"
   ]
  },
  {
   "cell_type": "code",
   "execution_count": 19,
   "id": "c27bb03b",
   "metadata": {},
   "outputs": [
    {
     "name": "stdout",
     "output_type": "stream",
     "text": [
      "1024 U_out 16 U_in 3\n",
      "U: torch.Size([16, 3072])\n",
      "U: torch.Size([16, 3, 1024]) tensor(0.0310, grad_fn=<StdBackward0>)\n",
      "V: torch.Size([256, 48])\n",
      "V: torch.Size([256, 16, 3])\n",
      "torch.Size([256, 16, 3]) tensor(0.8153, grad_fn=<StdBackward0>)\n"
     ]
    },
    {
     "data": {
      "image/png": "[encoded data removed]",
      "text/plain": [
       "<Figure size 640x480 with 2 Axes>"
      ]
     },
     "metadata": {},
     "output_type": "display_data"
    }
   ],
   "source": [
    "plot_slinear(slinear)"
   ]
  },
  {
   "cell_type": "code",
   "execution_count": null,
   "id": "f43db550",
   "metadata": {},
   "outputs": [],
   "source": []
  },
  {
   "cell_type": "code",
   "execution_count": 20,
   "id": "8554fc1c",
   "metadata": {},
   "outputs": [
    {
     "name": "stdout",
     "output_type": "stream",
     "text": [
      "W1 tensor(-0.0002, grad_fn=<MeanBackward0>) tensor(0.0310, grad_fn=<StdBackward0>)\n",
      "W2 tensor(-0.0002, grad_fn=<MeanBackward0>) tensor(0.0221, grad_fn=<StdBackward0>)\n",
      "y2: torch.Size([2, 16, 16, 16])\n",
      "y2: tensor(0.0015, grad_fn=<MeanBackward0>) tensor(0.6442, grad_fn=<StdBackward0>)\n"
     ]
    }
   ],
   "source": [
    "\n",
    "slinear.reduce(0.5)\n",
    "\n",
    "y = slinear(x)\n",
    "print('y2:', y.shape)\n",
    "print('y2:', y.mean(), y.std())"
   ]
  },
  {
   "cell_type": "code",
   "execution_count": 21,
   "id": "bee5348f",
   "metadata": {},
   "outputs": [
    {
     "name": "stdout",
     "output_type": "stream",
     "text": [
      "1024 U_out 16 U_in 3\n",
      "U: torch.Size([16, 3072])\n",
      "U: torch.Size([16, 3, 1024]) tensor(0.0221, grad_fn=<StdBackward0>)\n",
      "V: torch.Size([256, 48])\n",
      "V: torch.Size([256, 16, 3])\n",
      "torch.Size([256, 16, 3]) tensor(0.5830, grad_fn=<StdBackward0>)\n"
     ]
    },
    {
     "data": {
      "image/png": "[encoded data removed]",
      "text/plain": [
       "<Figure size 640x480 with 2 Axes>"
      ]
     },
     "metadata": {},
     "output_type": "display_data"
    }
   ],
   "source": [
    "plot_slinear(slinear)"
   ]
  },
  {
   "cell_type": "code",
   "execution_count": null,
   "id": "b02129cb",
   "metadata": {},
   "outputs": [],
   "source": []
  },
  {
   "cell_type": "code",
   "execution_count": null,
   "id": "cb2214af",
   "metadata": {},
   "outputs": [],
   "source": []
  },
  {
   "cell_type": "code",
   "execution_count": null,
   "id": "329279bf",
   "metadata": {},
   "outputs": [],
   "source": []
  },
  {
   "cell_type": "code",
   "execution_count": null,
   "id": "0c85cde0",
   "metadata": {},
   "outputs": [],
   "source": []
  }
 ],
 "metadata": {
  "kernelspec": {
   "display_name": "Python 3 (ipykernel)",
   "language": "python",
   "name": "python3"
  },
  "language_info": {
   "codemirror_mode": {
    "name": "ipython",
    "version": 3
   },
   "file_extension": ".py",
   "mimetype": "text/x-python",
   "name": "python",
   "nbconvert_exporter": "python",
   "pygments_lexer": "ipython3",
   "version": "3.10.9"
  }
 },
 "nbformat": 4,
 "nbformat_minor": 5
}
